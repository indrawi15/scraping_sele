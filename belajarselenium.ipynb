{
 "cells": [
  {
   "cell_type": "code",
   "execution_count": 1,
   "id": "8e6bb1c7-7a8b-4a08-9d79-0b0909258322",
   "metadata": {},
   "outputs": [
    {
     "name": "stdout",
     "output_type": "stream",
     "text": [
      "Requirement already satisfied: selenium in c:\\users\\indra\\appdata\\local\\programs\\python\\python310\\lib\\site-packages (4.23.1)\n",
      "Requirement already satisfied: urllib3<3,>=1.26 in c:\\users\\indra\\appdata\\local\\programs\\python\\python310\\lib\\site-packages (from urllib3[socks]<3,>=1.26->selenium) (2.2.1)\n",
      "Requirement already satisfied: trio~=0.17 in c:\\users\\indra\\appdata\\local\\programs\\python\\python310\\lib\\site-packages (from selenium) (0.26.2)\n",
      "Requirement already satisfied: trio-websocket~=0.9 in c:\\users\\indra\\appdata\\local\\programs\\python\\python310\\lib\\site-packages (from selenium) (0.11.1)\n",
      "Requirement already satisfied: certifi>=2021.10.8 in c:\\users\\indra\\appdata\\local\\programs\\python\\python310\\lib\\site-packages (from selenium) (2024.2.2)\n",
      "Requirement already satisfied: typing_extensions~=4.9 in c:\\users\\indra\\appdata\\local\\programs\\python\\python310\\lib\\site-packages (from selenium) (4.11.0)\n",
      "Requirement already satisfied: websocket-client~=1.8 in c:\\users\\indra\\appdata\\local\\programs\\python\\python310\\lib\\site-packages (from selenium) (1.8.0)\n",
      "Requirement already satisfied: attrs>=23.2.0 in c:\\users\\indra\\appdata\\local\\programs\\python\\python310\\lib\\site-packages (from trio~=0.17->selenium) (23.2.0)\n",
      "Requirement already satisfied: sortedcontainers in c:\\users\\indra\\appdata\\local\\programs\\python\\python310\\lib\\site-packages (from trio~=0.17->selenium) (2.4.0)\n",
      "Requirement already satisfied: idna in c:\\users\\indra\\appdata\\local\\programs\\python\\python310\\lib\\site-packages (from trio~=0.17->selenium) (3.7)\n",
      "Requirement already satisfied: outcome in c:\\users\\indra\\appdata\\local\\programs\\python\\python310\\lib\\site-packages (from trio~=0.17->selenium) (1.3.0.post0)\n",
      "Requirement already satisfied: sniffio>=1.3.0 in c:\\users\\indra\\appdata\\local\\programs\\python\\python310\\lib\\site-packages (from trio~=0.17->selenium) (1.3.1)\n",
      "Requirement already satisfied: cffi>=1.14 in c:\\users\\indra\\appdata\\local\\programs\\python\\python310\\lib\\site-packages (from trio~=0.17->selenium) (1.16.0)\n",
      "Requirement already satisfied: exceptiongroup in c:\\users\\indra\\appdata\\local\\programs\\python\\python310\\lib\\site-packages (from trio~=0.17->selenium) (1.2.1)\n",
      "Requirement already satisfied: wsproto>=0.14 in c:\\users\\indra\\appdata\\local\\programs\\python\\python310\\lib\\site-packages (from trio-websocket~=0.9->selenium) (1.2.0)\n",
      "Requirement already satisfied: pysocks!=1.5.7,<2.0,>=1.5.6 in c:\\users\\indra\\appdata\\local\\programs\\python\\python310\\lib\\site-packages (from urllib3[socks]<3,>=1.26->selenium) (1.7.1)\n",
      "Requirement already satisfied: pycparser in c:\\users\\indra\\appdata\\local\\programs\\python\\python310\\lib\\site-packages (from cffi>=1.14->trio~=0.17->selenium) (2.22)\n",
      "Requirement already satisfied: h11<1,>=0.9.0 in c:\\users\\indra\\appdata\\local\\programs\\python\\python310\\lib\\site-packages (from wsproto>=0.14->trio-websocket~=0.9->selenium) (0.14.0)\n"
     ]
    },
    {
     "name": "stderr",
     "output_type": "stream",
     "text": [
      "\n",
      "[notice] A new release of pip is available: 24.0 -> 24.2\n",
      "[notice] To update, run: python.exe -m pip install --upgrade pip\n"
     ]
    }
   ],
   "source": [
    "!pip install selenium"
   ]
  },
  {
   "cell_type": "code",
   "execution_count": 2,
   "id": "938b7f16-4ebf-4d77-b805-dd41e73a6395",
   "metadata": {},
   "outputs": [
    {
     "name": "stdout",
     "output_type": "stream",
     "text": [
      "Note: you may need to restart the kernel to use updated packages.\n",
      "Requirement already satisfied: pandas in c:\\users\\indra\\appdata\\local\\programs\\python\\python310\\lib\\site-packages (2.2.2)\n",
      "Requirement already satisfied: openpyxl in c:\\users\\indra\\appdata\\local\\programs\\python\\python310\\lib\\site-packages (3.1.5)\n",
      "Requirement already satisfied: numpy>=1.22.4 in c:\\users\\indra\\appdata\\local\\programs\\python\\python310\\lib\\site-packages (from pandas) (1.26.4)\n",
      "Requirement already satisfied: python-dateutil>=2.8.2 in c:\\users\\indra\\appdata\\local\\programs\\python\\python310\\lib\\site-packages (from pandas) (2.9.0.post0)\n",
      "Requirement already satisfied: pytz>=2020.1 in c:\\users\\indra\\appdata\\local\\programs\\python\\python310\\lib\\site-packages (from pandas) (2024.1)\n",
      "Requirement already satisfied: tzdata>=2022.7 in c:\\users\\indra\\appdata\\local\\programs\\python\\python310\\lib\\site-packages (from pandas) (2024.1)\n",
      "Requirement already satisfied: et-xmlfile in c:\\users\\indra\\appdata\\local\\programs\\python\\python310\\lib\\site-packages (from openpyxl) (1.1.0)\n",
      "Requirement already satisfied: six>=1.5 in c:\\users\\indra\\appdata\\local\\programs\\python\\python310\\lib\\site-packages (from python-dateutil>=2.8.2->pandas) (1.16.0)\n"
     ]
    },
    {
     "name": "stderr",
     "output_type": "stream",
     "text": [
      "\n",
      "[notice] A new release of pip is available: 24.0 -> 24.2\n",
      "[notice] To update, run: python.exe -m pip install --upgrade pip\n"
     ]
    }
   ],
   "source": [
    "pip install pandas openpyxl"
   ]
  },
  {
   "cell_type": "code",
   "execution_count": 3,
   "id": "e2c88c6d-8c12-4333-ae7d-326f65c3da64",
   "metadata": {},
   "outputs": [
    {
     "name": "stdout",
     "output_type": "stream",
     "text": [
      "Requirement already satisfied: openpyxl in c:\\users\\indra\\appdata\\local\\programs\\python\\python310\\lib\\site-packages (3.1.5)\n",
      "Requirement already satisfied: et-xmlfile in c:\\users\\indra\\appdata\\local\\programs\\python\\python310\\lib\\site-packages (from openpyxl) (1.1.0)\n",
      "Note: you may need to restart the kernel to use updated packages.\n"
     ]
    },
    {
     "name": "stderr",
     "output_type": "stream",
     "text": [
      "\n",
      "[notice] A new release of pip is available: 24.0 -> 24.2\n",
      "[notice] To update, run: python.exe -m pip install --upgrade pip\n"
     ]
    }
   ],
   "source": [
    "pip install openpyxl"
   ]
  },
  {
   "cell_type": "code",
   "execution_count": 4,
   "id": "cf0a569d-164f-4a67-bc8e-6f5b3504bc9b",
   "metadata": {},
   "outputs": [],
   "source": [
    "from selenium import webdriver\n",
    "from selenium.webdriver.common.by import By\n",
    "from selenium.webdriver.chrome.service import Service\n",
    "from selenium.webdriver.common.keys import Keys\n",
    "from datetime import datetime\n",
    "from datetime import datetime, timedelta\n",
    "import pandas as pd\n",
    "import calendar\n",
    "import time"
   ]
  },
  {
   "cell_type": "code",
   "execution_count": 6,
   "id": "5a88691c-2a17-41be-bd47-283668865272",
   "metadata": {},
   "outputs": [],
   "source": [
    "service = Service()\n",
    "driver = webdriver.Chrome(service=service)\n",
    "url_kita = \"https://sitrack.id/live_track\"\n",
    "driver.get(url_kita)\n",
    "time.sleep(3)"
   ]
  },
  {
   "cell_type": "code",
   "execution_count": 18,
   "id": "2c4a5813-7f42-4e62-82b8-cfcc96f2b50e",
   "metadata": {},
   "outputs": [
    {
     "name": "stdout",
     "output_type": "stream",
     "text": [
      "Data scraped and saved to annual_weather_jakarta_2023.xlsx\n"
     ]
    }
   ],
   "source": [
    "def scrape_monthly_weather(driver, month, year):\n",
    "    # Bangun URL untuk bulan dan tahun yang spesifik\n",
    "    base_url = \"https://www.accuweather.com/en/id/jakarta/208971/\"\n",
    "    month_name = calendar.month_name[month].lower()\n",
    "    url = f\"{base_url}{month_name}-weather/208971?year={year}\"\n",
    "\n",
    "    driver.get(url)\n",
    "    time.sleep(5)  # waktu untuk halaman untuk memuat sepenuhnya\n",
    "\n",
    "    # Mendapatkan data tanggal, suhu tinggi, dan suhu rendah\n",
    "    dates_elements = driver.find_elements(By.CSS_SELECTOR, \"div.monthly-calendar > a\")\n",
    "\n",
    "    # Membuat list untuk menyimpan data\n",
    "    data = []\n",
    "\n",
    "    for date_element in dates_elements:\n",
    "        date = date_element.find_element(By.CSS_SELECTOR, \"div.monthly-panel-top > div\").text\n",
    "        high_temp = date_element.find_element(By.CSS_SELECTOR, \"div.temp > div.high\").text\n",
    "        low_temp = date_element.find_element(By.CSS_SELECTOR, \"div.temp > div.low\").text\n",
    "        # Menambahkan data ke list\n",
    "        data.append({\n",
    "            'Date': date,\n",
    "            'High Temperature': high_temp,\n",
    "            'Low Temperature': low_temp\n",
    "        })\n",
    "\n",
    "    return data\n",
    "# Buat instance WebDriver untuk browser Chrome\n",
    "driver = webdriver.Chrome()\n",
    "# Membuat list untuk menyimpan semua data cuaca dari setiap bulan\n",
    "all_weather_data = []\n",
    "# Loop melalui setiap bulan dalam setahun terakhir\n",
    "for month in range(1, 13):\n",
    "    weather_data_month = scrape_monthly_weather(driver, month, 2023)\n",
    "    # Tambahkan data cuaca bulanan ke dalam list all_weather_data\n",
    "    all_weather_data.extend(weather_data_month)\n",
    "# Membuat DataFrame dari semua data cuaca\n",
    "df = pd.DataFrame(all_weather_data)\n",
    "# Menyimpan DataFrame ke file Excel\n",
    "excel_filename = \"annual_weather_jakarta_2023.xlsx\"\n",
    "df.to_excel(excel_filename, index=False)\n",
    "print(f\"Data scraped and saved to {excel_filename}\")\n",
    "# Tutup browser setelah selesai scraping\n",
    "driver.quit()"
   ]
  },
  {
   "cell_type": "code",
   "execution_count": 22,
   "id": "faffd385-0c9d-493b-a02a-84112a445003",
   "metadata": {},
   "outputs": [
    {
     "name": "stdout",
     "output_type": "stream",
     "text": [
      "Data scraped and saved to weather_jakarta_2023.xlsx\n"
     ]
    }
   ],
   "source": [
    "def scrape_monthly_weather(driver, month, year):\n",
    "    # Bangun URL untuk bulan dan tahun yang spesifik\n",
    "    base_url = \"https://www.accuweather.com/en/id/jakarta/208971/\"\n",
    "    month_name = calendar.month_name[month].lower()\n",
    "    url = f\"{base_url}{month_name}-weather/208971?year={year}\"\n",
    "\n",
    "    driver.get(url)\n",
    "    time.sleep(5)  # waktu untuk halaman untuk memuat sepenuhnya\n",
    "\n",
    "    # Mendapatkan data tanggal, suhu tinggi, dan suhu rendah\n",
    "    dates_elements = driver.find_elements(By.CSS_SELECTOR, \"div.monthly-calendar > a\")\n",
    "\n",
    "    # Membuat list untuk menyimpan data\n",
    "    data = []\n",
    "\n",
    "    # Untuk melacak tanggal terakhir yang telah ditemukan\n",
    "    last_date = None\n",
    "\n",
    "    for date_element in dates_elements:\n",
    "        date = date_element.find_element(By.CSS_SELECTOR, \"div.monthly-panel-top > div\").text\n",
    "        high_temp = date_element.find_element(By.CSS_SELECTOR, \"div.temp > div.high\").text\n",
    "        low_temp = date_element.find_element(By.CSS_SELECTOR, \"div.temp > div.low\").text\n",
    "\n",
    "        # Konversi tanggal menjadi format tanggal yang sesuai\n",
    "        date_obj = datetime.strptime(date, \"%d\")\n",
    "\n",
    "        # Jika tanggal terakhir yang ditemukan kurang dari tanggal yang seharusnya\n",
    "        if last_date is not None and date_obj != last_date + timedelta(days=1):\n",
    "            # Tambahkan entri kosong untuk tanggal yang hilang\n",
    "            for missing_date in range((last_date + timedelta(days=1)).day, date_obj.day):\n",
    "                data.append({\n",
    "                    'Date': f\"{missing_date:02d}-{month:02d}-{year}\",\n",
    "                    'High Temperature': 'N/A',\n",
    "                    'Low Temperature': 'N/A'\n",
    "                })\n",
    "\n",
    "        # Tambahkan data ke list\n",
    "        data.append({\n",
    "            'Date': f\"{date_obj.day:02d}-{month:02d}-{year}\",\n",
    "            'High Temperature': high_temp,\n",
    "            'Low Temperature': low_temp\n",
    "        })\n",
    "\n",
    "        # Perbarui tanggal terakhir\n",
    "        last_date = date_obj\n",
    "\n",
    "    return data\n",
    "\n",
    "# Buat instance WebDriver untuk browser Chrome\n",
    "driver = webdriver.Chrome()\n",
    "\n",
    "# Membuat list untuk menyimpan semua data cuaca dari setiap bulan\n",
    "all_weather_data = []\n",
    "\n",
    "# Loop melalui setiap bulan dalam setahun terakhir\n",
    "for month in range(1, 13):\n",
    "    weather_data_month = scrape_monthly_weather(driver, month, 2023)\n",
    "    # Tambahkan data cuaca bulanan ke dalam list all_weather_data\n",
    "    all_weather_data.extend(weather_data_month)\n",
    "\n",
    "# Membuat DataFrame dari semua data cuaca\n",
    "df = pd.DataFrame(all_weather_data)\n",
    "\n",
    "# Menyimpan DataFrame ke file Excel\n",
    "excel_filename = \"weather_jakarta_2023.xlsx\"\n",
    "df.to_excel(excel_filename, index=False)\n",
    "\n",
    "print(f\"Data scraped and saved to {excel_filename}\")\n",
    "\n",
    "# Tutup browser setelah selesai scraping\n",
    "driver.quit()\n"
   ]
  }
 ],
 "metadata": {
  "kernelspec": {
   "display_name": "Python 3 (ipykernel)",
   "language": "python",
   "name": "python3"
  },
  "language_info": {
   "codemirror_mode": {
    "name": "ipython",
    "version": 3
   },
   "file_extension": ".py",
   "mimetype": "text/x-python",
   "name": "python",
   "nbconvert_exporter": "python",
   "pygments_lexer": "ipython3",
   "version": "3.10.11"
  }
 },
 "nbformat": 4,
 "nbformat_minor": 5
}
